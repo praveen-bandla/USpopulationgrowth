{
 "cells": [
  {
   "cell_type": "code",
   "execution_count": 12,
   "id": "42237adb",
   "metadata": {},
   "outputs": [],
   "source": [
    "#importing the necessary libraries\n",
    "import numpy as np\n",
    "import pandas as pd\n",
    "import geopandas as gpd\n",
    "import matplotlib.pyplot as plt\n",
    "from urllib.request import urlopen"
   ]
  },
  {
   "cell_type": "code",
   "execution_count": 2,
   "id": "ab85df75",
   "metadata": {},
   "outputs": [
    {
     "data": {
      "text/html": [
       "<div>\n",
       "<style scoped>\n",
       "    .dataframe tbody tr th:only-of-type {\n",
       "        vertical-align: middle;\n",
       "    }\n",
       "\n",
       "    .dataframe tbody tr th {\n",
       "        vertical-align: top;\n",
       "    }\n",
       "\n",
       "    .dataframe thead th {\n",
       "        text-align: right;\n",
       "    }\n",
       "</style>\n",
       "<table border=\"1\" class=\"dataframe\">\n",
       "  <thead>\n",
       "    <tr style=\"text-align: right;\">\n",
       "      <th></th>\n",
       "      <th>0</th>\n",
       "    </tr>\n",
       "  </thead>\n",
       "  <tbody>\n",
       "    <tr>\n",
       "      <th>0</th>\n",
       "      <td>1969AL01001991910000000159</td>\n",
       "    </tr>\n",
       "    <tr>\n",
       "      <th>1</th>\n",
       "      <td>1969AL01001991910100000657</td>\n",
       "    </tr>\n",
       "    <tr>\n",
       "      <th>2</th>\n",
       "      <td>1969AL01001991910200001137</td>\n",
       "    </tr>\n",
       "    <tr>\n",
       "      <th>3</th>\n",
       "      <td>1969AL01001991910300000956</td>\n",
       "    </tr>\n",
       "    <tr>\n",
       "      <th>4</th>\n",
       "      <td>1969AL01001991910400000721</td>\n",
       "    </tr>\n",
       "    <tr>\n",
       "      <th>...</th>\n",
       "      <td>...</td>\n",
       "    </tr>\n",
       "    <tr>\n",
       "      <th>15535908</th>\n",
       "      <td>2020WY56045993921400000021</td>\n",
       "    </tr>\n",
       "    <tr>\n",
       "      <th>15535909</th>\n",
       "      <td>2020WY56045993921500000002</td>\n",
       "    </tr>\n",
       "    <tr>\n",
       "      <th>15535910</th>\n",
       "      <td>2020WY56045993921600000002</td>\n",
       "    </tr>\n",
       "    <tr>\n",
       "      <th>15535911</th>\n",
       "      <td>2020WY56045993921700000002</td>\n",
       "    </tr>\n",
       "    <tr>\n",
       "      <th>15535912</th>\n",
       "      <td>2020WY56045993921800000002</td>\n",
       "    </tr>\n",
       "  </tbody>\n",
       "</table>\n",
       "<p>15535913 rows × 1 columns</p>\n",
       "</div>"
      ],
      "text/plain": [
       "                                   0\n",
       "0         1969AL01001991910000000159\n",
       "1         1969AL01001991910100000657\n",
       "2         1969AL01001991910200001137\n",
       "3         1969AL01001991910300000956\n",
       "4         1969AL01001991910400000721\n",
       "...                              ...\n",
       "15535908  2020WY56045993921400000021\n",
       "15535909  2020WY56045993921500000002\n",
       "15535910  2020WY56045993921600000002\n",
       "15535911  2020WY56045993921700000002\n",
       "15535912  2020WY56045993921800000002\n",
       "\n",
       "[15535913 rows x 1 columns]"
      ]
     },
     "execution_count": 2,
     "metadata": {},
     "output_type": "execute_result"
    }
   ],
   "source": [
    "#reading in the county population information, stored as a singular\n",
    "#text file with 15million rows\n",
    "dftext = pd.read_csv('us.1969_2020.19ages (1).txt', header = None)\n",
    "#displaying the text imported as a datframe to understand it\n",
    "dftext"
   ]
  },
  {
   "cell_type": "code",
   "execution_count": 8,
   "id": "2c51d647",
   "metadata": {},
   "outputs": [],
   "source": [
    "#The indices are based on the data dictionary available\n",
    "#https://seer.cancer.gov/popdata/popdic.html\n",
    "indices = [0, 4, 6, 8,11,13,14,15,16,18]\n",
    "\n",
    "#splitting each string of each row by each index value\n",
    "#storing the final outputs as a list\n",
    "megalist = []\n",
    "for i in range(len(dftext)):\n",
    "    #extracting the text at the i'th row\n",
    "    s = dftext[0][i]\n",
    "    #splitting by the respective parts\n",
    "    parts = [s[k:j] for k,j in zip(indices, indices[1:]+[None])]\n",
    "    #adding the outputs as a list to the lists\n",
    "    megalist.append(parts)"
   ]
  },
  {
   "cell_type": "code",
   "execution_count": 9,
   "id": "4d35ac90",
   "metadata": {},
   "outputs": [],
   "source": [
    "#converting the list of lists to a datframe\n",
    "dfc = pd.DataFrame(megalist)"
   ]
  },
  {
   "cell_type": "code",
   "execution_count": 23,
   "id": "61565a9e",
   "metadata": {},
   "outputs": [],
   "source": [
    "#renaming the columns\n",
    "dfc.rename(columns={0: \"Year\", 1: \"State\", 2: 'State Code', 3: 'County Code', \n",
    "                   4: 'Registry', 5: 'Race', 6: 'Origin', 7: 'Sex',\n",
    "                  8: 'Age', 9: 'Population'}, inplace = True)"
   ]
  },
  {
   "cell_type": "code",
   "execution_count": 35,
   "id": "56bb8747",
   "metadata": {},
   "outputs": [],
   "source": [
    "#dropping the redundant column names\n",
    "dfc.drop(columns = ['Registry', 'State'], inplace = True)"
   ]
  },
  {
   "cell_type": "code",
   "execution_count": 37,
   "id": "4391e1d7",
   "metadata": {},
   "outputs": [],
   "source": [
    "#changing the population values to be ints\n",
    "dfc['Population'] = dfc['Population'].astype(int)"
   ]
  },
  {
   "cell_type": "code",
   "execution_count": 39,
   "id": "9da3c58b",
   "metadata": {},
   "outputs": [],
   "source": [
    "#Grouping by the Year, State Code, County Code and finding the sum of the population\n",
    "#essentially, this sums the population values for all genders, all races\n",
    "#storing the output as a dataframe\n",
    "df = pd.DataFrame(dfc.groupby(['Year','State Code', 'County Code'])['Population'].sum())"
   ]
  },
  {
   "cell_type": "code",
   "execution_count": 41,
   "id": "de78b6f4",
   "metadata": {},
   "outputs": [],
   "source": [
    "#resetting the index for readability\n",
    "df.reset_index(inplace = True)"
   ]
  },
  {
   "cell_type": "code",
   "execution_count": 43,
   "id": "02cc2988",
   "metadata": {},
   "outputs": [],
   "source": [
    "#creating a new column named location to store a unique identifier of the state\n",
    "#and the respective county. This will be useful later\n",
    "df['location'] = df['State Code'] + df['County Code']"
   ]
  },
  {
   "cell_type": "code",
   "execution_count": 44,
   "id": "d9fcd060",
   "metadata": {},
   "outputs": [],
   "source": [
    "#storing the output as a csv\n",
    "df.to_csv(\"datacleanedup.csv\")"
   ]
  },
  {
   "cell_type": "code",
   "execution_count": null,
   "id": "f12879ee",
   "metadata": {},
   "outputs": [],
   "source": []
  }
 ],
 "metadata": {
  "kernelspec": {
   "display_name": "Python 3 (ipykernel)",
   "language": "python",
   "name": "python3"
  },
  "language_info": {
   "codemirror_mode": {
    "name": "ipython",
    "version": 3
   },
   "file_extension": ".py",
   "mimetype": "text/x-python",
   "name": "python",
   "nbconvert_exporter": "python",
   "pygments_lexer": "ipython3",
   "version": "3.9.7"
  }
 },
 "nbformat": 4,
 "nbformat_minor": 5
}
